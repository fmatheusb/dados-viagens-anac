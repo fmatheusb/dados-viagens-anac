{
 "cells": [
  {
   "cell_type": "code",
   "execution_count": 123,
   "metadata": {},
   "outputs": [],
   "source": [
    "import pandas as pd\n",
    "import numpy as np"
   ]
  },
  {
   "cell_type": "code",
   "execution_count": 126,
   "metadata": {},
   "outputs": [
    {
     "data": {
      "text/html": [
       "<div>\n",
       "<style scoped>\n",
       "    .dataframe tbody tr th:only-of-type {\n",
       "        vertical-align: middle;\n",
       "    }\n",
       "\n",
       "    .dataframe tbody tr th {\n",
       "        vertical-align: top;\n",
       "    }\n",
       "\n",
       "    .dataframe thead th {\n",
       "        text-align: right;\n",
       "    }\n",
       "</style>\n",
       "<table border=\"1\" class=\"dataframe\">\n",
       "  <thead>\n",
       "    <tr style=\"text-align: right;\">\n",
       "      <th></th>\n",
       "      <th>ano</th>\n",
       "      <th>mes</th>\n",
       "      <th>empresa</th>\n",
       "      <th>origem</th>\n",
       "      <th>destino</th>\n",
       "      <th>tarifa</th>\n",
       "      <th>assentos</th>\n",
       "    </tr>\n",
       "  </thead>\n",
       "  <tbody>\n",
       "    <tr>\n",
       "      <th>0</th>\n",
       "      <td>2002</td>\n",
       "      <td>1</td>\n",
       "      <td>GLO</td>\n",
       "      <td>SBPA</td>\n",
       "      <td>SBBR</td>\n",
       "      <td>397.0</td>\n",
       "      <td>51</td>\n",
       "    </tr>\n",
       "    <tr>\n",
       "      <th>1</th>\n",
       "      <td>2002</td>\n",
       "      <td>1</td>\n",
       "      <td>GLO</td>\n",
       "      <td>SBSV</td>\n",
       "      <td>SBRF</td>\n",
       "      <td>272.0</td>\n",
       "      <td>5</td>\n",
       "    </tr>\n",
       "    <tr>\n",
       "      <th>2</th>\n",
       "      <td>2002</td>\n",
       "      <td>1</td>\n",
       "      <td>GLO</td>\n",
       "      <td>SBFL</td>\n",
       "      <td>SBGL</td>\n",
       "      <td>223.0</td>\n",
       "      <td>196</td>\n",
       "    </tr>\n",
       "    <tr>\n",
       "      <th>3</th>\n",
       "      <td>2002</td>\n",
       "      <td>1</td>\n",
       "      <td>GLO</td>\n",
       "      <td>SBGL</td>\n",
       "      <td>SBSP</td>\n",
       "      <td>96.0</td>\n",
       "      <td>615</td>\n",
       "    </tr>\n",
       "    <tr>\n",
       "      <th>4</th>\n",
       "      <td>2002</td>\n",
       "      <td>1</td>\n",
       "      <td>GLO</td>\n",
       "      <td>SBGL</td>\n",
       "      <td>SBRF</td>\n",
       "      <td>340.0</td>\n",
       "      <td>297</td>\n",
       "    </tr>\n",
       "  </tbody>\n",
       "</table>\n",
       "</div>"
      ],
      "text/plain": [
       "    ano  mes empresa origem destino  tarifa  assentos\n",
       "0  2002    1     GLO   SBPA    SBBR   397.0        51\n",
       "1  2002    1     GLO   SBSV    SBRF   272.0         5\n",
       "2  2002    1     GLO   SBFL    SBGL   223.0       196\n",
       "3  2002    1     GLO   SBGL    SBSP    96.0       615\n",
       "4  2002    1     GLO   SBGL    SBRF   340.0       297"
      ]
     },
     "execution_count": 126,
     "metadata": {},
     "output_type": "execute_result"
    }
   ],
   "source": [
    "# Lendo o arquivo parquet\n",
    "df = pd.read_parquet(r\"C:\\Users\\fmath\\Documents\\base_anac_tratada.parquet\")\n",
    "\n",
    "df.head()"
   ]
  },
  {
   "cell_type": "code",
   "execution_count": 130,
   "metadata": {},
   "outputs": [
    {
     "data": {
      "text/html": [
       "<div>\n",
       "<style scoped>\n",
       "    .dataframe tbody tr th:only-of-type {\n",
       "        vertical-align: middle;\n",
       "    }\n",
       "\n",
       "    .dataframe tbody tr th {\n",
       "        vertical-align: top;\n",
       "    }\n",
       "\n",
       "    .dataframe thead th {\n",
       "        text-align: right;\n",
       "    }\n",
       "</style>\n",
       "<table border=\"1\" class=\"dataframe\">\n",
       "  <thead>\n",
       "    <tr style=\"text-align: right;\">\n",
       "      <th></th>\n",
       "      <th>oaci</th>\n",
       "      <th>ciad</th>\n",
       "      <th>aeroporto</th>\n",
       "      <th>municipio</th>\n",
       "      <th>uf</th>\n",
       "    </tr>\n",
       "  </thead>\n",
       "  <tbody>\n",
       "    <tr>\n",
       "      <th>0</th>\n",
       "      <td>SBAA</td>\n",
       "      <td>PA0008</td>\n",
       "      <td>CONCEIÇÃO DO ARAGUAIA</td>\n",
       "      <td>CONCEIÇÃO DO ARAGUAIA</td>\n",
       "      <td>PA</td>\n",
       "    </tr>\n",
       "    <tr>\n",
       "      <th>1</th>\n",
       "      <td>SBAE</td>\n",
       "      <td>SP0010</td>\n",
       "      <td>BAURU/AREALVA</td>\n",
       "      <td>BAURU</td>\n",
       "      <td>SP</td>\n",
       "    </tr>\n",
       "    <tr>\n",
       "      <th>2</th>\n",
       "      <td>SBAQ</td>\n",
       "      <td>SP0012</td>\n",
       "      <td>BARTOLOMEU DE GUSMÃO</td>\n",
       "      <td>ARARAQUARA</td>\n",
       "      <td>SP</td>\n",
       "    </tr>\n",
       "    <tr>\n",
       "      <th>3</th>\n",
       "      <td>SBAR</td>\n",
       "      <td>SE0001</td>\n",
       "      <td>SANTA MARIA</td>\n",
       "      <td>ARACAJU</td>\n",
       "      <td>SE</td>\n",
       "    </tr>\n",
       "    <tr>\n",
       "      <th>4</th>\n",
       "      <td>SBAT</td>\n",
       "      <td>MT0003</td>\n",
       "      <td>PILOTO OSVALDO MARQUES DIAS</td>\n",
       "      <td>ALTA FLORESTA</td>\n",
       "      <td>MT</td>\n",
       "    </tr>\n",
       "  </tbody>\n",
       "</table>\n",
       "</div>"
      ],
      "text/plain": [
       "   oaci    ciad                    aeroporto              municipio  uf\n",
       "0  SBAA  PA0008        CONCEIÇÃO DO ARAGUAIA  CONCEIÇÃO DO ARAGUAIA  PA\n",
       "1  SBAE  SP0010                BAURU/AREALVA                  BAURU  SP\n",
       "2  SBAQ  SP0012         BARTOLOMEU DE GUSMÃO             ARARAQUARA  SP\n",
       "3  SBAR  SE0001                  SANTA MARIA                ARACAJU  SE\n",
       "4  SBAT  MT0003  PILOTO OSVALDO MARQUES DIAS          ALTA FLORESTA  MT"
      ]
     },
     "execution_count": 130,
     "metadata": {},
     "output_type": "execute_result"
    }
   ],
   "source": [
    "# Traznedo a dimensão de aeroportos\n",
    "aeroportos = pd.read_csv(r\"C:\\Users\\fmath\\Documents\\dados-viagens-anac\\dados-viagens-anac\\data\\aeroportos\\cadastro-de-aerodromos-civis-publicos.csv\"\n",
    "            , sep=';', skiprows=1, usecols=['CÓDIGO OACI', 'CIAD', 'NOME', 'MUNICÍPIO ATENDIDO', 'UF'])\n",
    "\n",
    "aeroportos.rename(columns={'CÓDIGO OACI': 'oaci', 'CIAD': 'ciad', 'NOME': 'aeroporto', 'MUNICÍPIO ATENDIDO':'municipio', 'UF': 'uf'}, inplace=True)\n",
    "\n",
    "aeroportos.head()"
   ]
  },
  {
   "cell_type": "code",
   "execution_count": 131,
   "metadata": {},
   "outputs": [
    {
     "data": {
      "text/plain": [
       "63210533"
      ]
     },
     "execution_count": 131,
     "metadata": {},
     "output_type": "execute_result"
    }
   ],
   "source": [
    "len(df)"
   ]
  }
 ],
 "metadata": {
  "kernelspec": {
   "display_name": "venv",
   "language": "python",
   "name": "python3"
  },
  "language_info": {
   "codemirror_mode": {
    "name": "ipython",
    "version": 3
   },
   "file_extension": ".py",
   "mimetype": "text/x-python",
   "name": "python",
   "nbconvert_exporter": "python",
   "pygments_lexer": "ipython3",
   "version": "3.8.2"
  }
 },
 "nbformat": 4,
 "nbformat_minor": 2
}
